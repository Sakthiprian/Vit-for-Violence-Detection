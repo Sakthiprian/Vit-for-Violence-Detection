{
  "nbformat": 4,
  "nbformat_minor": 0,
  "metadata": {
    "colab": {
      "provenance": []
    },
    "kernelspec": {
      "name": "python3",
      "display_name": "Python 3"
    },
    "language_info": {
      "name": "python"
    }
  },
  "cells": [
    {
      "cell_type": "code",
      "execution_count": null,
      "metadata": {
        "colab": {
          "base_uri": "https://localhost:8080/"
        },
        "id": "eETpbFB-KIbm",
        "outputId": "689c3f6a-a180-494b-cb9d-a027099a7906"
      },
      "outputs": [
        {
          "output_type": "stream",
          "name": "stdout",
          "text": [
            "Mounted at /content/drive\n"
          ]
        }
      ],
      "source": [
        "from google.colab import drive\n",
        "drive.mount('/content/drive')"
      ]
    },
    {
      "cell_type": "code",
      "source": [
        "import cv2\n",
        "import numpy as np\n",
        "import os\n",
        "from glob import glob\n",
        "import imageio\n",
        "\n",
        "def draw_flow_arrows(image, flow, step=10, color=(0, 255, 0), thickness=2):\n",
        "    \"\"\"Draw arrows representing optical flow on an image.\"\"\"\n",
        "    h, w = image.shape[:2]\n",
        "    for y in range(0, h, step):\n",
        "        for x in range(0, w, step):\n",
        "            fx, fy = flow[y, x]\n",
        "            end_point = (int(x + fx), int(y + fy))\n",
        "            magnitude = np.hypot(fx, fy)\n",
        "            if magnitude > 1.0:\n",
        "                cv2.arrowedLine(image, (x, y), end_point, color, thickness, tipLength=0.4)\n",
        "    return image\n",
        "\n",
        "def flow_to_hsv(flow):\n",
        "    \"\"\"Convert flow to HSV image.\"\"\"\n",
        "    mag, ang = cv2.cartToPolar(flow[..., 0], flow[..., 1])\n",
        "    hsv = np.zeros((flow.shape[0], flow.shape[1], 3), dtype=np.uint8)\n",
        "    hsv[..., 0] = ang * 180 / np.pi / 2  # Hue\n",
        "    hsv[..., 1] = 255  # Saturation\n",
        "    hsv[..., 2] = cv2.normalize(mag, None, 0, 255, cv2.NORM_MINMAX)  # Value\n",
        "    return cv2.cvtColor(hsv, cv2.COLOR_HSV2BGR)\n",
        "\n",
        "def save_gif_from_frames(frame_paths, gif_path, duration=0.1):\n",
        "    frames = [cv2.cvtColor(cv2.imread(p), cv2.COLOR_BGR2RGB) for p in frame_paths]\n",
        "    imageio.mimsave(gif_path, frames, duration=duration)\n",
        "\n",
        "def visualize_optical_flow_with_arrows(frames_folder, output_dir='output_flow_arrows', beta=0.7):\n",
        "    os.makedirs(output_dir, exist_ok=True)\n",
        "    dirs = {\n",
        "        \"flow_arrows\": \"arrow\",\n",
        "        \"flow_arrows_raw\": \"raw_arrow\",\n",
        "        \"flow_hsv\": \"hsv\",\n",
        "        \"flow_hsv_raw\": \"raw_hsv\"\n",
        "    }\n",
        "    for d in dirs:\n",
        "        os.makedirs(os.path.join(output_dir, d), exist_ok=True)\n",
        "\n",
        "    frame_paths = sorted(glob(os.path.join(frames_folder, '*')))\n",
        "    if len(frame_paths) < 2:\n",
        "        print(\"Need at least 2 frames.\")\n",
        "        return\n",
        "\n",
        "    prev_frame = cv2.imread(frame_paths[0])\n",
        "    prev_gray = cv2.cvtColor(prev_frame, cv2.COLOR_BGR2GRAY)\n",
        "    acc_flow = None\n",
        "\n",
        "    for i in range(1, len(frame_paths)):\n",
        "        curr_frame = cv2.imread(frame_paths[i])\n",
        "        curr_gray = cv2.cvtColor(curr_frame, cv2.COLOR_BGR2GRAY)\n",
        "\n",
        "        flow = cv2.calcOpticalFlowFarneback(\n",
        "            prev_gray, curr_gray, None,\n",
        "            pyr_scale=0.5, levels=3, winsize=15,\n",
        "            iterations=3, poly_n=5, poly_sigma=1.2, flags=0\n",
        "        )\n",
        "\n",
        "        # Save raw flow arrow\n",
        "        raw_arrow = curr_frame.copy()\n",
        "        draw_flow_arrows(raw_arrow, flow, step=10, color=(0, 0, 255), thickness=2)\n",
        "        cv2.imwrite(os.path.join(output_dir, \"flow_arrows_raw\", f\"{dirs['flow_arrows_raw']}_{i:02d}.png\"), raw_arrow)\n",
        "\n",
        "        # Save raw HSV\n",
        "        raw_hsv = flow_to_hsv(flow)\n",
        "        cv2.imwrite(os.path.join(output_dir, \"flow_hsv_raw\", f\"{dirs['flow_hsv_raw']}_{i:02d}.png\"), raw_hsv)\n",
        "\n",
        "        # Update accumulated flow\n",
        "        if acc_flow is None:\n",
        "            acc_flow = flow\n",
        "        else:\n",
        "            acc_flow = beta * flow + (1 - beta) * acc_flow\n",
        "\n",
        "        # Save accumulated arrow\n",
        "        acc_arrow = curr_frame.copy()\n",
        "        draw_flow_arrows(acc_arrow, acc_flow, step=10, color=(0, 255, 0), thickness=2)\n",
        "        cv2.imwrite(os.path.join(output_dir, \"flow_arrows\", f\"{dirs['flow_arrows']}_{i:02d}.png\"), acc_arrow)\n",
        "\n",
        "        # Save accumulated HSV\n",
        "        acc_hsv = flow_to_hsv(acc_flow)\n",
        "        cv2.imwrite(os.path.join(output_dir, \"flow_hsv\", f\"{dirs['flow_hsv']}_{i:02d}.png\"), acc_hsv)\n",
        "\n",
        "        prev_gray = curr_gray\n",
        "\n",
        "    print(\"Saved visualizations. Creating GIFs...\")\n",
        "\n",
        "    # Generate GIFs\n",
        "    for subdir, prefix in dirs.items():\n",
        "        images = sorted(glob(os.path.join(output_dir, subdir, f\"{prefix}_*.png\")))\n",
        "        gif_path = os.path.join(output_dir, f\"{prefix}.gif\")\n",
        "        save_gif_from_frames(images, gif_path, duration=0.1)\n",
        "        print(f\"Saved {prefix}.gif to {gif_path}\")\n",
        "\n",
        "# Example usage\n",
        "visualize_optical_flow_with_arrows(\n",
        "    \"/content/drive/MyDrive/optical flow clip/clip 2 fight\",\n",
        "    output_dir=\"/content/drive/MyDrive/optical flow clip/flow_output_arrows\",\n",
        "    beta=0.7\n",
        ")\n"
      ],
      "metadata": {
        "colab": {
          "base_uri": "https://localhost:8080/"
        },
        "id": "9gywdgzNKQw6",
        "outputId": "1f73d247-e3c8-45d6-ba5e-022d489d5173"
      },
      "execution_count": null,
      "outputs": [
        {
          "output_type": "stream",
          "name": "stdout",
          "text": [
            "Saved visualizations. Creating GIFs...\n",
            "Saved arrow.gif to /content/drive/MyDrive/optical flow clip/flow_output_arrows/arrow.gif\n",
            "Saved raw_arrow.gif to /content/drive/MyDrive/optical flow clip/flow_output_arrows/raw_arrow.gif\n",
            "Saved hsv.gif to /content/drive/MyDrive/optical flow clip/flow_output_arrows/hsv.gif\n",
            "Saved raw_hsv.gif to /content/drive/MyDrive/optical flow clip/flow_output_arrows/raw_hsv.gif\n"
          ]
        }
      ]
    }
  ]
}