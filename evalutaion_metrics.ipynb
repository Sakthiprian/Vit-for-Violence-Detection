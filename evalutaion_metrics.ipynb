{
  "nbformat": 4,
  "nbformat_minor": 0,
  "metadata": {
    "colab": {
      "provenance": []
    },
    "kernelspec": {
      "name": "python3",
      "display_name": "Python 3"
    },
    "language_info": {
      "name": "python"
    }
  },
  "cells": [
    {
      "cell_type": "code",
      "source": [
        "import numpy as np\n",
        "from sklearn.metrics import accuracy_score, roc_auc_score, precision_score, roc_curve\n",
        "\n",
        "predictions = trainer.predict(val_dataset)\n",
        "y_true = predictions.label_ids\n",
        "y_logits = predictions.predictions\n",
        "\n",
        "y_probs = y_logits[:, 1]  # probability of class 1 (fake)\n",
        "y_pred = np.argmax(y_logits, axis=1)\n",
        "\n",
        "# Metrics\n",
        "accuracy = accuracy_score(y_true, y_pred)\n",
        "auc = roc_auc_score(y_true, y_probs)\n",
        "precision = precision_score(y_true, y_pred)\n",
        "\n",
        "# EER\n",
        "fpr, tpr, thresholds = roc_curve(y_true, y_probs)\n",
        "fnr = 1 - tpr\n",
        "eer_threshold = thresholds[np.nanargmin(np.absolute(fnr - fpr))]\n",
        "eer = fpr[np.nanargmin(np.absolute(fnr - fpr))]\n",
        "\n",
        "# Print\n",
        "print(f\"Accuracy:  {accuracy:.4f}\")\n",
        "print(f\"AUC:       {auc:.4f}\")\n",
        "print(f\"Precision: {precision:.4f}\")\n",
        "print(f\"EER:       {eer:.4f}\")\n"
      ],
      "metadata": {
        "id": "yULbCl7L8BIT"
      },
      "execution_count": null,
      "outputs": []
    }
  ]
}